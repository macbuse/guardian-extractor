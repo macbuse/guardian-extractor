{
 "cells": [
  {
   "cell_type": "markdown",
   "metadata": {},
   "source": [
    "# Guardian article extractor\n",
    "\n",
    "About 15 years ago I wrote a script to scrape the Guardian newspaper site\n",
    "and write them to a .html so that I could print it off for reading in the\n",
    "toilet at work.\n",
    "\n",
    "This took a couple of weeks to get working correctly. Then they had a\n",
    "couple of modifications and I had to rewrite but it wasn't so hard.\n",
    "\n",
    "---\n",
    "\n",
    "### Steps in the procedure\n",
    "\n",
    "1. Scrape the front page and get the links to stories\n",
    "1. Access the links and scrape each of the pages\n",
    "1. Extract meta data and story text from the pages\n",
    "1. Sort and create table of contents (toc)\n",
    "1. Format and dump to a file\n",
    "\n",
    "### Much easier\n",
    "\n",
    "Things are easier today using **Goose**.\n",
    "\n",
    "\n",
    "\n"
   ]
  },
  {
   "cell_type": "markdown",
   "metadata": {},
   "source": [
    "# Let's get started\n",
    "\n",
    "Pull the front page and get the links.\n",
    "Some use BeautifulSoup to do this but regexp\n",
    "is more efficient"
   ]
  },
  {
   "cell_type": "code",
   "execution_count": 25,
   "metadata": {},
   "outputs": [],
   "source": [
    "import datetime, calendar\n",
    "mydate = datetime.datetime.now()\n",
    " \n",
    "yy, mm, dd = str(mydate).split(' ')[0].split('-')\n",
    "today = calendar.month_abbr[int(mm)].lower() + '/' + dd"
   ]
  },
  {
   "cell_type": "code",
   "execution_count": 26,
   "metadata": {},
   "outputs": [],
   "source": [
    "import requests\n",
    "import re\n",
    "pp = re.compile('<a href=\"(.*?)\".*?data-link-name=\"(.*?)\"', re.DOTALL)\n",
    "r = requests.get('https://www.theguardian.com/')\n",
    "\n",
    "\n",
    "lks =  set([ lk for lk, name in pp.findall(r.text) \n",
    "                       if name == 'article' and today in lk ])  \n",
    "\n"
   ]
  },
  {
   "cell_type": "code",
   "execution_count": 27,
   "metadata": {},
   "outputs": [
    {
     "data": {
      "text/plain": [
       "['https://www.theguardian.com/us-news/2019/aug/12/pennsylvania-fire-five-children-die-in-fire-at-daycare-centre',\n",
       " 'https://www.theguardian.com/world/2019/aug/12/uk-and-ireland-commemorate-1979-fastnet-race-disaster',\n",
       " 'https://www.theguardian.com/music/2019/aug/12/love-yourself-more-k-pop-band-bts-take-extended-break-to-enjoy-life']"
      ]
     },
     "execution_count": 27,
     "metadata": {},
     "output_type": "execute_result"
    }
   ],
   "source": [
    "list(lks)[:3]"
   ]
  },
  {
   "cell_type": "markdown",
   "metadata": {},
   "source": [
    "# Sorting the links\n",
    "\n",
    "I always write a class to do this.\n",
    "The object contains :\n",
    "\n",
    "- meta data\n",
    "- a payload\n",
    "- a unique identifier generated using a hash fucntion\n"
   ]
  },
  {
   "cell_type": "code",
   "execution_count": 28,
   "metadata": {},
   "outputs": [],
   "source": [
    "import hashlib\n",
    "\n",
    "class GuardianArt():\n",
    "    #this wraps a Goose object\n",
    "    #maybe I should inherit but ???\n",
    "    \n",
    "    def __init__(self, lk=\"\"):\n",
    "        \n",
    "        #this is the payload\n",
    "        self.goose_art = None\n",
    "        \n",
    "        self.raw = lk\n",
    "        self.id = str(hash(self))\n",
    "        \n",
    "        #the rest is meta data\n",
    "        self.label = lk.split('/')[3]\n",
    "        self.tag = 'misc'\n",
    "            \n",
    "        #change tag from misc if appropriate to do so \n",
    "        if ( lk.split('/')[4] in ['audio', 'video', 'gallery']):\n",
    "            self.tag = self.label = 'xmedia'    \n",
    "        elif (self.label == 'world' or 'news' in self.label):\n",
    "            self.tag = 'news'\n",
    "        elif self.label == 'commentisfree':\n",
    "            self.tag = 'op_ed'\n",
    "\n",
    "    def __hash__(self):\n",
    "        return int( hashlib.md5(self.raw.encode()).hexdigest(), 16)\n",
    "        \n",
    "    def __repr__(self):\n",
    "        return self.raw\n",
    "    \n",
    "    def __str__(self):\n",
    "        return self.raw\n",
    "\n",
    "\n",
    "arts = [GuardianArt(lk) for lk in lks]\n",
    "\n",
    "shit_list = ['xmedia', 'football', 'business', 'stage', 'sport'] \n",
    "arts = [art for art in arts \n",
    "             if art.label not in shit_list]\n",
    "\n",
    "#tags = set([art.tag for art in arts])\n",
    "misc = set([art.label for art in arts if art.tag == 'misc'])"
   ]
  },
  {
   "cell_type": "code",
   "execution_count": 20,
   "metadata": {},
   "outputs": [
    {
     "data": {
      "text/plain": [
       "[https://www.theguardian.com/commentisfree/2019/aug/11/boris-johnson-has-a-problem-with-women-its-not-the-one-you-think,\n",
       " https://www.theguardian.com/world/2019/aug/11/british-governments-hong-kong-intervention-riles-china,\n",
       " https://www.theguardian.com/society/2019/aug/11/medicinal-cannabis-the-hype-is-strong-but-the-evidence-is-weak,\n",
       " https://www.theguardian.com/commentisfree/2019/aug/11/good-old-days-look-deeper-and-myths-of-ideal-communities-fades,\n",
       " https://www.theguardian.com/us-news/2019/aug/11/iranian-woman-arrested-in-australia-pleads-guilty-to-conspiracy-in-us,\n",
       " https://www.theguardian.com/politics/2019/aug/11/sajid-javids-plan-to-flood-tills-with-brexit-50p-coins,\n",
       " https://www.theguardian.com/environment/2019/aug/11/extinction-rebellion-hitting-a-nerve-at-australias-climate-flashpoint,\n",
       " https://www.theguardian.com/world/2019/aug/11/i-will-eventually-get-killed-meet-bryan-kramer-papua-new-guineas-anti-corruption-tsar,\n",
       " https://www.theguardian.com/media/2019/aug/11/lights-dim-but-australias-lgbti-media-fights-on,\n",
       " https://www.theguardian.com/lifeandstyle/2019/aug/11/my-parents-dote-on-our-baby-but-ignore-or-shame-our-son-mariella-frostrup,\n",
       " https://www.theguardian.com/commentisfree/2019/aug/11/for-women-like-me-postponing-the-menopause-would-be-a-blessing,\n",
       " https://www.theguardian.com/food/2019/aug/11/nigel-slater-roasted-stone-fruits-for-summer-salad-recipes,\n",
       " https://www.theguardian.com/australia-news/2019/aug/11/recalling-the-horror-of-long-tan-i-was-too-bloody-busy-to-be-frightened,\n",
       " https://www.theguardian.com/world/2019/aug/11/protests-clashes-and-lack-of-trust-the-new-normal-for-hong-kong]"
      ]
     },
     "execution_count": 20,
     "metadata": {},
     "output_type": "execute_result"
    }
   ],
   "source": [
    "arts"
   ]
  },
  {
   "cell_type": "markdown",
   "metadata": {},
   "source": [
    "# Loading the articles\n",
    "\n",
    "This used to be hard but I use Goose to do this now"
   ]
  },
  {
   "cell_type": "code",
   "execution_count": 29,
   "metadata": {},
   "outputs": [
    {
     "name": "stdout",
     "output_type": "stream",
     "text": [
      "pennsylvania-fire-five-children-die-in-fire-at-daycare-centre\n",
      "uk-and-ireland-commemorate-1979-fastnet-race-disaster\n",
      "love-yourself-more-k-pop-band-bts-take-extended-break-to-enjoy-life\n",
      "joseph-fiennes-ive-done-my-bit-for-society-ive-illustrated-the-patheticness-of-misogyny\n",
      "new-zealand-gun-buyback-10000-firearms-returned-after-christchurch-attack\n",
      "vladimir-putin-west-russian-president-20-years\n",
      "rock-sea-meaing-tel-aviv-beach-refugee\n",
      "guatemala-elects-president-alejandro-giammattei-who-called-trump-immigration-deal-bad-news\n",
      "myanmar-scrambles-to-rescue-flood-victims-as-landslide-kills-dozens\n",
      "drug-maker-will-make-21bn-from-treating-cystic-fibrosis\n",
      "behrouz-boochani-wins-25000-national-biography-award-and-accepts-via-whatsapp-from-manus\n",
      "nigel-farage-prince-harry-meghan-markle-overweight-queen-mother-cpac-brexit\n",
      "troubles-tourism-should-derry-be-celebrating-its-political-murals\n",
      "russia-honours-national-heroes-killed-in-mysterious-nuclear-rocket-blast\n",
      "australia-coal-use-is-existential-threat-to-pacific-islands-says-fiji-pm\n",
      "as-a-uniting-church-minister-i-think-abortion-can-be-a-morally-good-choice\n",
      "through-our-eyes-pictures-young-migrants-samos-greece\n",
      "hong-kong-protests-brutal-undercover-police-tactics-spark-outcry\n",
      "texas-diversity-fuels-democratic-hopes-purple-state\n",
      "monday-briefing-the-doctor-will-see-you-in-two-weeks\n",
      "cocaine-found-on-new-zealand-beach-was-bound-for-australia-and-lost-at-sea-for-a-year\n"
     ]
    }
   ],
   "source": [
    "from goose3 import Goose\n",
    "#from  bs4 import BeautifulSoup\n",
    "\n",
    "gg = Goose()\n",
    "\n",
    "for art in arts:\n",
    "    print(  str(art).split('/')[-1],)\n",
    "    try:\n",
    "        art.goose_art = gg.extract(url=str(art) ) \n",
    "    except:\n",
    "        pass\n",
    "print('Done!')\n"
   ]
  },
  {
   "cell_type": "markdown",
   "metadata": {},
   "source": [
    "# Output to HTML\n",
    "\n",
    "There are libraries for doing HTML output from python \n",
    "but as often as not string formatting is easier."
   ]
  },
  {
   "cell_type": "code",
   "execution_count": 30,
   "metadata": {},
   "outputs": [],
   "source": [
    "header = '''<!DOCTYPE html>\n",
    "<html id=\"js-context\" class=\"js-off is-not-modern id--signed-out\" lang=\"en\" data-page-path=\"/international\">\n",
    "<head>\n",
    "<title>News, sport and opinion from the Guardian's global edition | The Guardian</title>\n",
    "<meta charset=\"utf-8\">\n",
    "</head>\n",
    "'''  \n",
    "\n",
    "headline_wrapper = '<h2 id=\"%s\">%s</h2>'\n",
    "keyword_wrapper = '<h4>%s</h4>'\n",
    "para_wrapper = \"<p>%s</p>\\n\\n\"\n",
    "toc_item_wrapper = '<a href=\"#%s\">%s</a><br>\\n'\n",
    "\n",
    "sections = ['news', 'op_ed', 'misc']\n",
    "text  = {x:[] for x in sections}\n",
    "tocs  = {x:[] for x in sections}\n",
    "\n",
    "\n",
    "for yy in arts:\n",
    "    #the goose object is stored in the article\n",
    "    art = yy.goose_art\n",
    "    \n",
    "    html_id = (yy.id, art.title)\n",
    "    tocs[yy.tag].append(html_id) \n",
    "    \n",
    "    html_text = ''.join( [para_wrapper%x for x in art.cleaned_text.split('\\n'*2)])\n",
    "    text[yy.tag].append('\\n\\n'.join([ headline_wrapper%html_id, \n",
    "                                      keyword_wrapper%art.meta_keywords, \n",
    "                                      html_text]))\n",
    "\n",
    "#write to a file remember to use a context cos it's cleaner   \n",
    "with  open('text.html','w') as fp:\n",
    "    fp.write(header + '<body>\\n')\n",
    "    \n",
    "    for ss in sections:\n",
    "        fp.write('<h1>%s</h1>'%ss.upper())\n",
    "        toc_html = [toc_item_wrapper%x for x in tocs[ss] ]\n",
    "        fp.write(''.join(toc_html) + '<br>\\n')\n",
    "        \n",
    "    for ss in sections:\n",
    "        fp.write('\\n'.join(text[ss]) )\n",
    "\n",
    "    fp.write('</body>\\n')"
   ]
  },
  {
   "cell_type": "code",
   "execution_count": null,
   "metadata": {},
   "outputs": [],
   "source": []
  }
 ],
 "metadata": {
  "kernelspec": {
   "display_name": "NLPkernel",
   "language": "python",
   "name": "nlpkernel"
  },
  "language_info": {
   "codemirror_mode": {
    "name": "ipython",
    "version": 3
   },
   "file_extension": ".py",
   "mimetype": "text/x-python",
   "name": "python",
   "nbconvert_exporter": "python",
   "pygments_lexer": "ipython3",
   "version": "3.6.5"
  }
 },
 "nbformat": 4,
 "nbformat_minor": 2
}
